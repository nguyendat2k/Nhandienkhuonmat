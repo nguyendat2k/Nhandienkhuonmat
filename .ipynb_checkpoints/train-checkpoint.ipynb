{
 "cells": [
  {
   "cell_type": "code",
   "execution_count": 8,
   "metadata": {},
   "outputs": [],
   "source": [
    "import os\n",
    "import cv2\n",
    "import numpy as np\n",
    "from PIL import Image\n",
    "\n"
   ]
  },
  {
   "cell_type": "code",
   "execution_count": 9,
   "metadata": {},
   "outputs": [],
   "source": [
    "recognizer = cv2.face.LBPHFaceRecognizer_create()\n"
   ]
  },
  {
   "cell_type": "code",
   "execution_count": 10,
   "metadata": {},
   "outputs": [],
   "source": [
    "path = 'data_face'\n",
    "\n",
    "def getImagesWithID(path):\n",
    "    imagePaths=[os.path.join(path, f) for f in os.listdir(path)]\n",
    "    faces=[]\n",
    "    IDs=[]\n",
    "    for imagePath in imagePaths:\n",
    "        faceImg = Image.open(imagePath).convert('L')\n",
    "        faceNp = np.array(faceImg, 'uint8')\n",
    "        ID=int(os.path.split(imagePath)[-1].split('.')[1])\n",
    "        faces.append(faceNp)\n",
    "        IDs.append(ID)\n",
    "        cv2.imshow('training', faceNp)\n",
    "        cv2.waitKey(10)\n",
    "    return np.array(IDs), faces\n",
    "\n",
    "Ids, faces = getImagesWithID(path)\n",
    "recognizer.train(faces, Ids)\n",
    "\n",
    "if not os.path.exists('trainer'):\n",
    "    os.makedirs('trainer')\n",
    "\n",
    "recognizer.save('huanluyen/huanluyen.yml')\n",
    "cv2.destroyAllWindows()"
   ]
  },
  {
   "cell_type": "code",
   "execution_count": null,
   "metadata": {},
   "outputs": [],
   "source": []
  },
  {
   "cell_type": "code",
   "execution_count": null,
   "metadata": {},
   "outputs": [],
   "source": []
  }
 ],
 "metadata": {
  "kernelspec": {
   "display_name": "Python 3",
   "language": "python",
   "name": "python3"
  },
  "language_info": {
   "codemirror_mode": {
    "name": "ipython",
    "version": 3
   },
   "file_extension": ".py",
   "mimetype": "text/x-python",
   "name": "python",
   "nbconvert_exporter": "python",
   "pygments_lexer": "ipython3",
   "version": "3.8.3"
  }
 },
 "nbformat": 4,
 "nbformat_minor": 4
}
