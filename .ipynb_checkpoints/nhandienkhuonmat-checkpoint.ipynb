{
 "cells": [
  {
   "cell_type": "code",
   "execution_count": 1,
   "metadata": {
    "scrolled": true
   },
   "outputs": [
    {
     "name": "stdout",
     "output_type": "stream",
     "text": [
      "Enter user id:4\n",
      "Enter name: dat\n"
     ]
    }
   ],
   "source": [
    "import numpy as np\n",
    "import os\n",
    "import sqlite3\n",
    "import cv2\n",
    "#--------------------------------------------------------------------\n",
    "# CODE NHAP DU LIEU HINH ANH VA DAT TEN KET NOI CO SO DU LIEU\n",
    "def insertOrUpdate(id, name):\n",
    "    #connecting to the db\n",
    "    conn =sqlite3.connect(\"Face.db\")\n",
    "    #check if id already exists\n",
    "    query = \"SELECT * FROM Face WHERE ID=\"+str(id)\n",
    "    #returning the data in rows\n",
    "    cursor = conn.execute(query)\n",
    "    isRecordExist=0\n",
    "    for row in cursor:\n",
    "        isRecordExist=1\n",
    "    if isRecordExist==0:\n",
    "         query=\"INSERT INTO Face(ID, Name) VALUES(\"+str(id)+\",'\"+str(name)+\"')\"     \n",
    "    else:\n",
    "          query=\"UPDATE Face SET Name='\"+str(name)+\" WHERE ID=\"+str(id)\n",
    "    conn.execute(query)\n",
    "    conn.commit()\n",
    "    conn.close()\n",
    "\n",
    "\n",
    "face_cascade = cv2.CascadeClassifier(\"haarcascade_frontalface_default.xml\")\n",
    "cap = cv2.VideoCapture(0)\n",
    "id = input(\"Enter user id:\" )\n",
    "name = input(\"Enter name: \")\n",
    "insertOrUpdate(id, name)\n",
    "sample_number = 0\n",
    "while True:\n",
    "    ret, img = cap.read()\n",
    "    gray = cv2.cvtColor(img, cv2.COLOR_BGR2GRAY)\n",
    "    faces = face_cascade.detectMultiScale(gray, 1.3, 5)\n",
    "    for (x,y,w,h) in faces:\n",
    "        sample_number += 1\n",
    "\n",
    "        if not os.path.exists(\"data_face\"):\n",
    "            os.makedirs(\"data_face\")\n",
    "\n",
    "        cv2.imwrite(\"data_face/User.\"+str(id)+\".\"+str(sample_number)+\".jpg\",  img[y:y+h,x:x+w])\n",
    "        cv2.rectangle(img, (x,y), (x+w, y+h), (0,255,0), 2)\n",
    "\n",
    "    cv2.imshow(\"img\", img)\n",
    "    cv2.waitKey(1);\n",
    "    if(sample_number>100):\n",
    "        cap.release()\n",
    "        cv2.destroyAllWindows()\n",
    "        break;\n",
    "\n"
   ]
  },
  {
   "cell_type": "code",
   "execution_count": 2,
   "metadata": {},
   "outputs": [],
   "source": [
    "import os\n",
    "import cv2\n",
    "import numpy as np\n",
    "from PIL import Image"
   ]
  },
  {
   "cell_type": "code",
   "execution_count": 3,
   "metadata": {},
   "outputs": [],
   "source": [
    "recognizer = cv2.face.LBPHFaceRecognizer_create()"
   ]
  },
  {
   "cell_type": "code",
   "execution_count": 4,
   "metadata": {},
   "outputs": [],
   "source": [
    "path = 'data_face'\n",
    "\n",
    "def getImagesWithID(path):\n",
    "    imagePaths=[os.path.join(path, f) for f in os.listdir(path)]\n",
    "    faces=[]\n",
    "    IDs=[]\n",
    "    for imagePath in imagePaths:\n",
    "        faceImg = Image.open(imagePath).convert('L')\n",
    "        faceNp = np.array(faceImg, 'uint8')\n",
    "        ID=int(os.path.split(imagePath)[-1].split('.')[1])\n",
    "        faces.append(faceNp)\n",
    "        IDs.append(ID)\n",
    "        cv2.imshow('training', faceNp)\n",
    "        cv2.waitKey(10)\n",
    "    return np.array(IDs), faces\n",
    "\n",
    "Ids, faces = getImagesWithID(path)\n",
    "recognizer.train(faces, Ids)\n",
    "\n",
    "if not os.path.exists('trainer'):\n",
    "    os.makedirs('trainer')\n",
    "\n",
    "recognizer.save('huanluyen/huanluyen.yml')\n",
    "cv2.destroyAllWindows()"
   ]
  },
  {
   "cell_type": "code",
   "execution_count": 5,
   "metadata": {},
   "outputs": [],
   "source": [
    "import numpy as np\n",
    "import os\n",
    "import pickle, sqlite3\n",
    "import cv2\n",
    "from PIL import Image\n",
    "\n",
    "\n",
    "face_cascade = cv2.CascadeClassifier(\"haarcascade_frontalface_default.xml\")\n",
    "recognizer = cv2.face.LBPHFaceRecognizer_create()\n",
    "recognizer.read(\"huanluyen/huanluyen.yml\")\n",
    "\n",
    "def getProfile(Id):\n",
    "    conn=sqlite3.connect(\"Face.db\")\n",
    "    query=\"SELECT * FROM Face WHERE ID=\"+str(Id)\n",
    "    cursor=conn.execute(query)\n",
    "    profile=None\n",
    "    for row in cursor:\n",
    "        profile=row\n",
    "    conn.close()\n",
    "    return profile\n",
    "cap = cv2.VideoCapture(0)\n",
    "font = cv2.FONT_HERSHEY_COMPLEX\n",
    "while True:\n",
    "    ret, img = cap.read()\n",
    "    gray = cv2.cvtColor(img, cv2.COLOR_BGR2GRAY)\n",
    "    faces = face_cascade.detectMultiScale(gray, 1.3, 5)\n",
    "    for (x,y,w,h) in faces:\n",
    "\n",
    "        cv2.rectangle(img, (x,y), (x+w, y+h), (0,255,0), 2)\n",
    "        roi_gray = gray[y:y+h, x:x+w]\n",
    "        roi_color = img[y:y+h, x:x+w]\n",
    "\n",
    "        nbr_predicted, conf = recognizer.predict(gray[y:y+h, x:x+w])\n",
    "        if conf < 70:\n",
    "            profile=getProfile(nbr_predicted)\n",
    "            if profile != None:\n",
    "                cv2.putText(img, \"\"+str(profile[1]), (x+10, y), font, 1, (0,255,0), 1);\n",
    "        else:\n",
    "            cv2.putText(img, \"Unknown\", (x, y + h + 30), font, 0.4, (0, 0, 255), 1);\n",
    "\n",
    "\n",
    "    cv2.imshow(\"img\", img)\n",
    "    if(cv2.waitKey(1) == ord(\"q\")):\n",
    "        break\n",
    "cap.release()\n",
    "cv2.destroyAllWindows()\n",
    "\n"
   ]
  },
  {
   "cell_type": "code",
   "execution_count": null,
   "metadata": {},
   "outputs": [],
   "source": [
    "\n"
   ]
  }
 ],
 "metadata": {
  "kernelspec": {
   "display_name": "Python 3",
   "language": "python",
   "name": "python3"
  },
  "language_info": {
   "codemirror_mode": {
    "name": "ipython",
    "version": 3
   },
   "file_extension": ".py",
   "mimetype": "text/x-python",
   "name": "python",
   "nbconvert_exporter": "python",
   "pygments_lexer": "ipython3",
   "version": "3.8.3"
  }
 },
 "nbformat": 4,
 "nbformat_minor": 4
}
