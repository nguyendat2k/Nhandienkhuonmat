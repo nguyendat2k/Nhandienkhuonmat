{
 "cells": [
  {
   "cell_type": "code",
   "execution_count": 4,
   "metadata": {},
   "outputs": [],
   "source": [
    "import numpy as np\n",
    "import os\n",
    "import pickle, sqlite3\n",
    "import cv2\n",
    "from PIL import Image\n",
    "\n",
    "\n",
    "face_cascade = cv2.CascadeClassifier(\"haarcascade_frontalface_default.xml\")\n",
    "recognizer = cv2.face.LBPHFaceRecognizer_create()\n",
    "recognizer.read(\"huanluyen/huanluyen.yml\")\n",
    "\n",
    "def getProfile(Id):\n",
    "    conn=sqlite3.connect(\"Face.db\")\n",
    "    query=\"SELECT * FROM Face WHERE ID=\"+str(Id)\n",
    "    cursor=conn.execute(query)\n",
    "    profile=None\n",
    "    for row in cursor:\n",
    "        profile=row\n",
    "    conn.close()\n",
    "    return profile\n",
    "cap = cv2.VideoCapture(0)\n",
    "font = cv2.FONT_HERSHEY_COMPLEX\n",
    "while True:\n",
    "    ret, img = cap.read()\n",
    "    gray = cv2.cvtColor(img, cv2.COLOR_BGR2GRAY)\n",
    "    faces = face_cascade.detectMultiScale(gray, 1.3, 5)\n",
    "    for (x,y,w,h) in faces:\n",
    "\n",
    "        cv2.rectangle(img, (x,y), (x+w, y+h), (0,255,0), 2)\n",
    "        roi_gray = gray[y:y+h, x:x+w]\n",
    "        roi_color = img[y:y+h, x:x+w]\n",
    "\n",
    "        nbr_predicted, conf = recognizer.predict(gray[y:y+h, x:x+w])\n",
    "        if conf < 70:\n",
    "            profile=getProfile(nbr_predicted)\n",
    "            if profile != None:\n",
    "                cv2.putText(img, \"\"+str(profile[1]), (x+10, y), font, 1, (0,255,0), 1);\n",
    "        else:\n",
    "            cv2.putText(img, \"Unknown\", (x, y + h + 30), font, 0.4, (0, 0, 255), 1);\n",
    "\n",
    "\n",
    "    cv2.imshow(\"img\", img)\n",
    "    if(cv2.waitKey(1) == ord(\"q\")):\n",
    "        break\n",
    "cap.release()\n",
    "cv2.destroyAllWindows()\n",
    "\n"
   ]
  },
  {
   "cell_type": "code",
   "execution_count": null,
   "metadata": {},
   "outputs": [],
   "source": []
  },
  {
   "cell_type": "code",
   "execution_count": null,
   "metadata": {},
   "outputs": [],
   "source": []
  }
 ],
 "metadata": {
  "kernelspec": {
   "display_name": "Python 3",
   "language": "python",
   "name": "python3"
  },
  "language_info": {
   "codemirror_mode": {
    "name": "ipython",
    "version": 3
   },
   "file_extension": ".py",
   "mimetype": "text/x-python",
   "name": "python",
   "nbconvert_exporter": "python",
   "pygments_lexer": "ipython3",
   "version": "3.8.3"
  }
 },
 "nbformat": 4,
 "nbformat_minor": 4
}
